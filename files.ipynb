{
  "nbformat": 4,
  "nbformat_minor": 0,
  "metadata": {
    "colab": {
      "provenance": []
    },
    "kernelspec": {
      "name": "python3",
      "display_name": "Python 3"
    },
    "language_info": {
      "name": "python"
    }
  },
  "cells": [
    {
      "cell_type": "markdown",
      "source": [
        "1.How can you open a file for writing in Python and write a string to it?"
      ],
      "metadata": {
        "id": "KUzwx8LcFtIK"
      }
    },
    {
      "cell_type": "code",
      "source": [
        "file = open(\"my_file.txt\", \"w\")\n",
        "file.write(\"This is a test string.\\n\")\n",
        "file.close()"
      ],
      "metadata": {
        "id": "b-C1sgjhF_3I"
      },
      "execution_count": 1,
      "outputs": []
    },
    {
      "cell_type": "markdown",
      "source": [
        "2.Write a Python program to read the contents of a file and print each line."
      ],
      "metadata": {
        "id": "V3AQgIu_HI8S"
      }
    },
    {
      "cell_type": "code",
      "source": [
        "with open(\"my_file.txt\", \"r\") as file:\n",
        "  for line in file:\n",
        "       print(line.strip())"
      ],
      "metadata": {
        "id": "lfbNDMlmH_CJ"
      },
      "execution_count": 12,
      "outputs": []
    },
    {
      "cell_type": "markdown",
      "source": [
        "3.How would you handle a case where the file doesn't exist while trying to open it for reading?"
      ],
      "metadata": {
        "id": "m8W5JtCDKDfh"
      }
    },
    {
      "cell_type": "code",
      "source": [
        "try:\n",
        "  file = open(\"example.txt\", \"r\")\n",
        "  for line in file:\n",
        "      print(line.strip())\n",
        "      file.close()\n",
        "except FileNotFoundError:\n",
        "      print(\"Error: The file 'example.txt' does not exist\")"
      ],
      "metadata": {
        "colab": {
          "base_uri": "https://localhost:8080/",
          "height": 0
        },
        "id": "dUm6g-30JqG1",
        "outputId": "ec24342f-f68c-49ae-801b-c8cd1dbaa5aa"
      },
      "execution_count": 20,
      "outputs": [
        {
          "output_type": "stream",
          "name": "stdout",
          "text": [
            "Error: The file 'example.txt' does not exist\n"
          ]
        }
      ]
    },
    {
      "cell_type": "markdown",
      "source": [
        "4.Write a Python script that reads from one file and write its content to another file."
      ],
      "metadata": {
        "id": "miaJBwcVLbUZ"
      }
    },
    {
      "cell_type": "code",
      "source": [
        "try:\n",
        "  with open(\"source.txt\", \"r\") as source_file:\n",
        "      content = source_file.read()\n",
        "\n",
        "  with open(\"destination.txt\", \"w\") as dest_file:\n",
        "      dest_file.write(content)\n",
        "      print(\"File copied successfully.\")\n",
        "except FileNotFoundError:\n",
        "    print(\"Error: 'source.txt' was not found.\")"
      ],
      "metadata": {
        "colab": {
          "base_uri": "https://localhost:8080/",
          "height": 0
        },
        "id": "4JvGT0NGLNgl",
        "outputId": "d8c3d458-beb4-4d96-edf7-02b227fe88a5"
      },
      "execution_count": 27,
      "outputs": [
        {
          "output_type": "stream",
          "name": "stdout",
          "text": [
            "Error: 'source.txt' was not found.\n"
          ]
        }
      ]
    },
    {
      "cell_type": "markdown",
      "source": [
        "5.How would you catch and handle division by zero error in Python?"
      ],
      "metadata": {
        "id": "at-JLjWTNd03"
      }
    },
    {
      "cell_type": "code",
      "source": [
        "try:\n",
        "    result = 10 / 0\n",
        "except ZeroDivisionError:\n",
        "  print(\"Error: You cannot divide by zero.\")\n",
        "except Exception as e:\n",
        "  print(\"An unexpected error occurred:\", e)"
      ],
      "metadata": {
        "colab": {
          "base_uri": "https://localhost:8080/",
          "height": 0
        },
        "id": "WIcFch6CM_Pq",
        "outputId": "ca4c9482-df37-4ca2-825f-86924a88331d"
      },
      "execution_count": 28,
      "outputs": [
        {
          "output_type": "stream",
          "name": "stdout",
          "text": [
            "Error: You cannot divide by zero.\n"
          ]
        }
      ]
    },
    {
      "cell_type": "markdown",
      "source": [
        "6.Write a Python program that logs an error message to a log file when a division by zero exception occurs."
      ],
      "metadata": {
        "id": "wBobqELHOgtm"
      }
    },
    {
      "cell_type": "code",
      "source": [
        "import logging\n",
        "logging.basicConfig(\n",
        "    filename='error.log',\n",
        "    level=logging.ERROR,\n",
        "    format='%(asctime)s - %(levelname)s - %(message)s'\n",
        ")\n",
        "numerator = 10\n",
        "denominator = 0\n",
        "try:\n",
        "     result = numerator / denominator\n",
        "     print(\"Result:\", result)\n",
        "\n",
        "except ZeroDivisionError as e:\n",
        "  error_message = f\"Attempted to divide {numerator} by {denominator}: {e}\"\n",
        "  logging.error(error_message)\n",
        "  print(\"Error: Division by zero. Check 'error.log' for details.\")"
      ],
      "metadata": {
        "colab": {
          "base_uri": "https://localhost:8080/",
          "height": 0
        },
        "id": "HWBdSHssOapN",
        "outputId": "df4fe433-54ab-4039-f04b-e9c3a1c633fa"
      },
      "execution_count": 29,
      "outputs": [
        {
          "output_type": "stream",
          "name": "stderr",
          "text": [
            "ERROR:root:Attempted to divide 10 by 0: division by zero\n"
          ]
        },
        {
          "output_type": "stream",
          "name": "stdout",
          "text": [
            "Error: Division by zero. Check 'error.log' for details.\n"
          ]
        }
      ]
    },
    {
      "cell_type": "markdown",
      "source": [
        "7.How do you log information at different levels(INFO, ERROR, WARNING) in Python using the logging module?"
      ],
      "metadata": {
        "id": "53VOWtqVRDkz"
      }
    },
    {
      "cell_type": "code",
      "source": [
        "import logging\n",
        "logging.basicConfig(\n",
        "    filename='app.log',\n",
        "    level=logging.DEBUG,\n",
        "    format='%(asctime)s - %(levelname)s - %(message)s'\n",
        ")\n",
        "logging.debug(\"This is a DEBUG message - used for diagnostics.\")\n",
        "logging.info(\"This is an INFO message - general updates.\")\n",
        "logging.warning(\"This is a WARNING message - something unusual happened.\")\n",
        "logging.error(\"This is a ERROR message - an operation failed.\")\n",
        "logging.critical(\"This is a CRITICAL message - major failure.\")"
      ],
      "metadata": {
        "colab": {
          "base_uri": "https://localhost:8080/",
          "height": 0
        },
        "id": "zDSgdxFYRASD",
        "outputId": "bc296c40-947f-4d6e-90f4-8f27b334fe9f"
      },
      "execution_count": 30,
      "outputs": [
        {
          "output_type": "stream",
          "name": "stderr",
          "text": [
            "WARNING:root:This is a WARNING message - something unusual happened.\n",
            "ERROR:root:This is a ERROR message - an operation failed.\n",
            "CRITICAL:root:This is a CRITICAL message - major failure.\n"
          ]
        }
      ]
    },
    {
      "cell_type": "markdown",
      "source": [
        "8.Write a program to handle a file opening error using exception handling."
      ],
      "metadata": {
        "id": "zHUpwBz8TK55"
      }
    },
    {
      "cell_type": "code",
      "source": [
        "try:\n",
        "    file = open(\"data.txt\", \"r\")\n",
        "    content = file.read()\n",
        "    print(\"File Content:\")\n",
        "    print(content)\n",
        "    file.close()\n",
        "except FileNotFoundError:\n",
        "    print(\"Error: The file 'data.txt' does not exist. Please check the file name or path.\")\n",
        "except Exception as e:\n",
        "    print(\"An unexpected error occured:\", e)"
      ],
      "metadata": {
        "colab": {
          "base_uri": "https://localhost:8080/",
          "height": 0
        },
        "id": "x-1AprO_TFct",
        "outputId": "b3ecd1c7-257c-4d27-80b8-6bc5bd2575a2"
      },
      "execution_count": 31,
      "outputs": [
        {
          "output_type": "stream",
          "name": "stdout",
          "text": [
            "Error: The file 'data.txt' does not exist. Please check the file name or path.\n"
          ]
        }
      ]
    },
    {
      "cell_type": "markdown",
      "source": [
        "9.How can you read a file line by line and store its content in a list in Python?"
      ],
      "metadata": {
        "id": "d9CCYTCzcOI6"
      }
    },
    {
      "cell_type": "code",
      "source": [
        " with open(\"example.txt\", \"r\") as file:\n",
        "    lines = file.readlines()\n",
        "lines = [line.strip() for line in lines]\n",
        "print(lines)"
      ],
      "metadata": {
        "id": "OQRTeop7jYMr",
        "outputId": "a61f3980-148c-4336-cc42-e9f2fcd1a232",
        "colab": {
          "base_uri": "https://localhost:8080/",
          "height": 193
        }
      },
      "execution_count": 73,
      "outputs": [
        {
          "output_type": "error",
          "ename": "FileNotFoundError",
          "evalue": "[Errno 2] No such file or directory: 'example.txt'",
          "traceback": [
            "\u001b[0;31m---------------------------------------------------------------------------\u001b[0m",
            "\u001b[0;31mFileNotFoundError\u001b[0m                         Traceback (most recent call last)",
            "\u001b[0;32m<ipython-input-73-0f1849e29ba1>\u001b[0m in \u001b[0;36m<cell line: 0>\u001b[0;34m()\u001b[0m\n\u001b[0;32m----> 1\u001b[0;31m \u001b[0;32mwith\u001b[0m \u001b[0mopen\u001b[0m\u001b[0;34m(\u001b[0m\u001b[0;34m\"example.txt\"\u001b[0m\u001b[0;34m,\u001b[0m \u001b[0;34m\"r\"\u001b[0m\u001b[0;34m)\u001b[0m \u001b[0;32mas\u001b[0m \u001b[0mfile\u001b[0m\u001b[0;34m:\u001b[0m\u001b[0;34m\u001b[0m\u001b[0;34m\u001b[0m\u001b[0m\n\u001b[0m\u001b[1;32m      2\u001b[0m    \u001b[0mlines\u001b[0m \u001b[0;34m=\u001b[0m \u001b[0mfile\u001b[0m\u001b[0;34m.\u001b[0m\u001b[0mreadlines\u001b[0m\u001b[0;34m(\u001b[0m\u001b[0;34m)\u001b[0m\u001b[0;34m\u001b[0m\u001b[0;34m\u001b[0m\u001b[0m\n\u001b[1;32m      3\u001b[0m \u001b[0mlines\u001b[0m \u001b[0;34m=\u001b[0m \u001b[0;34m[\u001b[0m\u001b[0mline\u001b[0m\u001b[0;34m.\u001b[0m\u001b[0mstrip\u001b[0m\u001b[0;34m(\u001b[0m\u001b[0;34m)\u001b[0m \u001b[0;32mfor\u001b[0m \u001b[0mline\u001b[0m \u001b[0;32min\u001b[0m \u001b[0mlines\u001b[0m\u001b[0;34m]\u001b[0m\u001b[0;34m\u001b[0m\u001b[0;34m\u001b[0m\u001b[0m\n\u001b[1;32m      4\u001b[0m \u001b[0mprint\u001b[0m\u001b[0;34m(\u001b[0m\u001b[0mlines\u001b[0m\u001b[0;34m)\u001b[0m\u001b[0;34m\u001b[0m\u001b[0;34m\u001b[0m\u001b[0m\n",
            "\u001b[0;31mFileNotFoundError\u001b[0m: [Errno 2] No such file or directory: 'example.txt'"
          ]
        }
      ]
    },
    {
      "cell_type": "markdown",
      "source": [
        "10.How can you append data to an existing file in Python?"
      ],
      "metadata": {
        "id": "EYDBLecbkkZz"
      }
    },
    {
      "cell_type": "code",
      "source": [
        "with open(\"notes.txt\", \"a\") as file:\n",
        "  file.write(\"This is a new line of text.\\n\")\n",
        "print(\"Data appended successfully.\")"
      ],
      "metadata": {
        "id": "FBccEPQPkXDN",
        "outputId": "4ac263be-6df3-4f23-d90b-c0e991592187",
        "colab": {
          "base_uri": "https://localhost:8080/",
          "height": 0
        }
      },
      "execution_count": 74,
      "outputs": [
        {
          "output_type": "stream",
          "name": "stdout",
          "text": [
            "Data appended successfully.\n"
          ]
        }
      ]
    },
    {
      "cell_type": "markdown",
      "source": [
        "11.Write a Python program that uses a try- except block to handle an error when attempting to access a dictionary key that doesn't exist."
      ],
      "metadata": {
        "id": "OVp_V9hdlPRV"
      }
    },
    {
      "cell_type": "code",
      "source": [
        "person = {\n",
        "    \"name\": \"Alice\",\n",
        "    \"age\": 30\n",
        "    }\n",
        "try:\n",
        "     address = person[\"address\"]\n",
        "     print(\"Address\", address)\n",
        "except KeyError:\n",
        "    print(\"Error: The key 'address' does not exist in the dictionary.\")"
      ],
      "metadata": {
        "id": "WMeQETXKlKW1",
        "outputId": "7d737336-e490-404a-ea27-51c63f4e28c3",
        "colab": {
          "base_uri": "https://localhost:8080/",
          "height": 0
        }
      },
      "execution_count": 79,
      "outputs": [
        {
          "output_type": "stream",
          "name": "stdout",
          "text": [
            "Error: The key 'address' does not exist in the dictionary.\n"
          ]
        }
      ]
    },
    {
      "cell_type": "markdown",
      "source": [
        "12.Write a program that demonstrates using multiple except blocks to handle different types of exceptions."
      ],
      "metadata": {
        "id": "PuiYUpOjnE00"
      }
    },
    {
      "cell_type": "code",
      "source": [
        "data = {\n",
        "    \"name\": \"Alice\",\n",
        "    \"age\": 25\n",
        "}\n",
        "try:\n",
        "  result = 10 / 0\n",
        "  city = data[\"city\"]\n",
        "except ZeroDivisionError:\n",
        "   print(\"Error: You tried to divide by zero.\")\n",
        "except KeyError as e:\n",
        "  print(f\"Error: The key {e} was not found in the dictionary.\")\n",
        "except Exceptions as e:\n",
        "  print(f\"An unexpected error occured: {e}\")"
      ],
      "metadata": {
        "id": "EmHHe5b9mlo0",
        "outputId": "0268ef74-12ca-4ee3-cdb6-00905a0dd720",
        "colab": {
          "base_uri": "https://localhost:8080/",
          "height": 0
        }
      },
      "execution_count": 80,
      "outputs": [
        {
          "output_type": "stream",
          "name": "stdout",
          "text": [
            "Error: You tried to divide by zero.\n"
          ]
        }
      ]
    },
    {
      "cell_type": "markdown",
      "source": [
        "13.How would you check if a file exists before attempting to read it in Python?"
      ],
      "metadata": {
        "id": "zlEmTWA4oePR"
      }
    },
    {
      "cell_type": "code",
      "source": [
        "import os\n",
        "file_path = \"data.txt\"\n",
        "\n",
        "if os.path.exists(file_path):\n",
        "  with open(file_path, \"r\") as file:\n",
        "      content = file.read()\n",
        "      print(content)\n",
        "else:\n",
        "    print(f\"Error: The file '{file_path}' does not exist.\")"
      ],
      "metadata": {
        "id": "eyBYr9oTocu9",
        "outputId": "2c6adad3-a109-4c76-8f6d-b45ae79bb707",
        "colab": {
          "base_uri": "https://localhost:8080/",
          "height": 0
        }
      },
      "execution_count": 81,
      "outputs": [
        {
          "output_type": "stream",
          "name": "stdout",
          "text": [
            "Error: The file 'data.txt' does not exist.\n"
          ]
        }
      ]
    },
    {
      "cell_type": "markdown",
      "source": [
        "14.Write a program that uses the logging module to log both informational and error messages."
      ],
      "metadata": {
        "id": "eazQcXS7sH9m"
      }
    },
    {
      "cell_type": "code",
      "source": [
        "import logging\n",
        "logging.basicConfig(\n",
        "    filename='app.log',\n",
        "    level=logging.INFO,\n",
        "    format='%(asctime)s - %(levelname)s - %(message)s'\n",
        ")\n",
        "logging.info(\"Program started successfully.\")\n",
        "try:\n",
        "   num1 = 10\n",
        "   num2 = 0\n",
        "   result = num1 / num2\n",
        "except ZeroDivisionError:\n",
        "     logging.error(\"Attempted to divide by zero.\")\n",
        "logging.info(\"Program completed.\")"
      ],
      "metadata": {
        "id": "eAnGaDsNsG8N",
        "outputId": "b532d715-b9bc-4aad-a8d1-d046abc110f9",
        "colab": {
          "base_uri": "https://localhost:8080/",
          "height": 0
        }
      },
      "execution_count": 82,
      "outputs": [
        {
          "output_type": "stream",
          "name": "stderr",
          "text": [
            "ERROR:root:Attempted to divide by zero.\n"
          ]
        }
      ]
    },
    {
      "cell_type": "markdown",
      "source": [
        "15.Write a Python program that prints the content of a file and handles the case when the file is empty."
      ],
      "metadata": {
        "id": "kTzatK8Ft0Vx"
      }
    },
    {
      "cell_type": "code",
      "source": [
        "import os\n",
        "file_name = \"data.txt\"\n",
        "if os.path.exists(file_name):\n",
        "  with open(file_name, \"r\") as file:\n",
        "    content = file.read()\n",
        "  if not content.strip():\n",
        "    print(\"The file is empty.\")\n",
        "  else:\n",
        "    print(\"File content.\")\n",
        "    print(content)\n",
        "else:\n",
        "  print(f\"Error: The file '{file_name}' does not exist.\")"
      ],
      "metadata": {
        "id": "Lh7kvfn2vqRX",
        "outputId": "b4af1ed0-7ca9-4b0e-ebe8-55e9a1dc3815",
        "colab": {
          "base_uri": "https://localhost:8080/",
          "height": 0
        }
      },
      "execution_count": 103,
      "outputs": [
        {
          "output_type": "stream",
          "name": "stdout",
          "text": [
            "Error: The file 'data.txt' does not exist.\n"
          ]
        }
      ]
    },
    {
      "cell_type": "markdown",
      "source": [
        "16.Demonstrate how to use memory profiling to check the memory usage of a small program."
      ],
      "metadata": {
        "id": "_SWcb6-E03Tz"
      }
    },
    {
      "cell_type": "code",
      "source": [
        "from memory_profiler import profile\n",
        "@profile\n",
        "def process_data():\n",
        "   print(\"Starting memory-intensive task...\")\n",
        "   numbers = [i for i in range(1000000)]\n",
        "   doubled = [n * 2 for n in numbers]\n",
        "   return doubled[:100]\n",
        "if __name__ == \"__main__\"\n",
        "    result = process_data()"
      ],
      "metadata": {
        "id": "kWXdE4I-2evG",
        "outputId": "1adfbaf3-7da1-456c-8ccb-1f970c84e6a6",
        "colab": {
          "base_uri": "https://localhost:8080/",
          "height": 106
        }
      },
      "execution_count": 113,
      "outputs": [
        {
          "output_type": "error",
          "ename": "SyntaxError",
          "evalue": "expected ':' (<ipython-input-113-a765be2b0f6f>, line 8)",
          "traceback": [
            "\u001b[0;36m  File \u001b[0;32m\"<ipython-input-113-a765be2b0f6f>\"\u001b[0;36m, line \u001b[0;32m8\u001b[0m\n\u001b[0;31m    if __name__ == \"__main__\"\u001b[0m\n\u001b[0m                             ^\u001b[0m\n\u001b[0;31mSyntaxError\u001b[0m\u001b[0;31m:\u001b[0m expected ':'\n"
          ]
        }
      ]
    },
    {
      "cell_type": "markdown",
      "source": [
        "17.Write a Python program to create and write a list  of numbersto a file, one number per line."
      ],
      "metadata": {
        "id": "8W58WATI4OCA"
      }
    },
    {
      "cell_type": "code",
      "source": [
        "numbers = [10, 20, 30, 40, 50]\n",
        "with open(\"numbers.txt\", \"w\") as file:\n",
        "  for number in numbers:\n",
        "     file.write(f\"{numbers}\\n\")\n",
        "print(\"Numbers written to 'numbers.txt' successfully.\")"
      ],
      "metadata": {
        "id": "par-6xm55Msg",
        "outputId": "bbd37011-d3f8-498e-f5d3-6eb8f3333ecd",
        "colab": {
          "base_uri": "https://localhost:8080/",
          "height": 0
        }
      },
      "execution_count": 119,
      "outputs": [
        {
          "output_type": "stream",
          "name": "stdout",
          "text": [
            "Numbers written to 'numbers.txt' successfully.\n"
          ]
        }
      ]
    },
    {
      "cell_type": "markdown",
      "source": [
        "18.How would you implement a basic logging setup that logs to a file with rotation after 1MB?"
      ],
      "metadata": {
        "id": "bVJfhIKG6t2g"
      }
    },
    {
      "cell_type": "code",
      "source": [
        "import logging\n",
        "from logging.handlers import RotatingFileHandler\n",
        "\n",
        "handler = RotatingFileHandler('app.log', maxBytes=1_046_576, backup=3)\n",
        "handler.setFormatter(logging.Formatter('%(asctime)s - %(levelname)s - %(message)s'))\n",
        "\n",
        "logger = logging.getLogger()\n",
        "logger.setLevel(logging.INFO)\n",
        "logger.addHandler(handler)\n",
        "logger.info(\"This is a test log message.\")"
      ],
      "metadata": {
        "id": "68SLq5i46sES",
        "outputId": "f3addb20-dc20-4d0c-9262-21768639347b",
        "colab": {
          "base_uri": "https://localhost:8080/",
          "height": 211
        }
      },
      "execution_count": 122,
      "outputs": [
        {
          "output_type": "error",
          "ename": "TypeError",
          "evalue": "RotatingFileHandler.__init__() got an unexpected keyword argument 'backup'",
          "traceback": [
            "\u001b[0;31m---------------------------------------------------------------------------\u001b[0m",
            "\u001b[0;31mTypeError\u001b[0m                                 Traceback (most recent call last)",
            "\u001b[0;32m<ipython-input-122-8027620ee193>\u001b[0m in \u001b[0;36m<cell line: 0>\u001b[0;34m()\u001b[0m\n\u001b[1;32m      2\u001b[0m \u001b[0;32mfrom\u001b[0m \u001b[0mlogging\u001b[0m\u001b[0;34m.\u001b[0m\u001b[0mhandlers\u001b[0m \u001b[0;32mimport\u001b[0m \u001b[0mRotatingFileHandler\u001b[0m\u001b[0;34m\u001b[0m\u001b[0;34m\u001b[0m\u001b[0m\n\u001b[1;32m      3\u001b[0m \u001b[0;34m\u001b[0m\u001b[0m\n\u001b[0;32m----> 4\u001b[0;31m \u001b[0mhandler\u001b[0m \u001b[0;34m=\u001b[0m \u001b[0mRotatingFileHandler\u001b[0m\u001b[0;34m(\u001b[0m\u001b[0;34m'app.log'\u001b[0m\u001b[0;34m,\u001b[0m \u001b[0mmaxBytes\u001b[0m\u001b[0;34m=\u001b[0m\u001b[0;36m1_046_576\u001b[0m\u001b[0;34m,\u001b[0m \u001b[0mbackup\u001b[0m\u001b[0;34m=\u001b[0m\u001b[0;36m3\u001b[0m\u001b[0;34m)\u001b[0m\u001b[0;34m\u001b[0m\u001b[0;34m\u001b[0m\u001b[0m\n\u001b[0m\u001b[1;32m      5\u001b[0m \u001b[0mhandler\u001b[0m\u001b[0;34m.\u001b[0m\u001b[0msetFormatter\u001b[0m\u001b[0;34m(\u001b[0m\u001b[0mlogging\u001b[0m\u001b[0;34m.\u001b[0m\u001b[0mFormatter\u001b[0m\u001b[0;34m(\u001b[0m\u001b[0;34m'%(asctime)s - %(levelname)s - %(message)s'\u001b[0m\u001b[0;34m)\u001b[0m\u001b[0;34m)\u001b[0m\u001b[0;34m\u001b[0m\u001b[0;34m\u001b[0m\u001b[0m\n\u001b[1;32m      6\u001b[0m \u001b[0;34m\u001b[0m\u001b[0m\n",
            "\u001b[0;31mTypeError\u001b[0m: RotatingFileHandler.__init__() got an unexpected keyword argument 'backup'"
          ]
        }
      ]
    },
    {
      "cell_type": "markdown",
      "source": [
        "19.Write a program that handles both indexError and KeyError using a try-except block."
      ],
      "metadata": {
        "id": "8VTL-9wn-f9T"
      }
    },
    {
      "cell_type": "code",
      "source": [
        "my_list = [1, 2, 3]\n",
        "my_dict ={'a':10, 'b':20}\n",
        "try:\n",
        "  print(my_list[5])\n",
        "  print(my_dict[\"z\"])\n",
        "except IndexError:\n",
        "  print(\"IndexError: List index out of range.\")\n",
        "except KeyError:\n",
        "  print(\"KeyError: Key not found in dictionary.\")"
      ],
      "metadata": {
        "id": "nqDa4lSh9FY_",
        "outputId": "6fd9413f-2165-40f2-cd63-d07bc282d534",
        "colab": {
          "base_uri": "https://localhost:8080/",
          "height": 0
        }
      },
      "execution_count": 123,
      "outputs": [
        {
          "output_type": "stream",
          "name": "stdout",
          "text": [
            "IndexError: List index out of range.\n"
          ]
        }
      ]
    },
    {
      "cell_type": "markdown",
      "source": [
        "20.How would you open a file and read its content using a context manager in python?"
      ],
      "metadata": {
        "id": "FknFQyy-_pN0"
      }
    },
    {
      "cell_type": "code",
      "source": [
        "with open(\"sample.txt\", \"r\") as file:\n",
        "   content = file.read()\n",
        "   print(\"File content:\")\n",
        "   print(content)"
      ],
      "metadata": {
        "id": "eB121KHN_ngs",
        "outputId": "4d0a5328-fe5d-464b-f686-d591c7bd4cc5",
        "colab": {
          "base_uri": "https://localhost:8080/",
          "height": 193
        }
      },
      "execution_count": 131,
      "outputs": [
        {
          "output_type": "error",
          "ename": "FileNotFoundError",
          "evalue": "[Errno 2] No such file or directory: 'sample.txt'",
          "traceback": [
            "\u001b[0;31m---------------------------------------------------------------------------\u001b[0m",
            "\u001b[0;31mFileNotFoundError\u001b[0m                         Traceback (most recent call last)",
            "\u001b[0;32m<ipython-input-131-f18f3895cc86>\u001b[0m in \u001b[0;36m<cell line: 0>\u001b[0;34m()\u001b[0m\n\u001b[0;32m----> 1\u001b[0;31m \u001b[0;32mwith\u001b[0m \u001b[0mopen\u001b[0m\u001b[0;34m(\u001b[0m\u001b[0;34m\"sample.txt\"\u001b[0m\u001b[0;34m,\u001b[0m \u001b[0;34m\"r\"\u001b[0m\u001b[0;34m)\u001b[0m \u001b[0;32mas\u001b[0m \u001b[0mfile\u001b[0m\u001b[0;34m:\u001b[0m\u001b[0;34m\u001b[0m\u001b[0;34m\u001b[0m\u001b[0m\n\u001b[0m\u001b[1;32m      2\u001b[0m    \u001b[0mcontent\u001b[0m \u001b[0;34m=\u001b[0m \u001b[0mfile\u001b[0m\u001b[0;34m.\u001b[0m\u001b[0mread\u001b[0m\u001b[0;34m(\u001b[0m\u001b[0;34m)\u001b[0m\u001b[0;34m\u001b[0m\u001b[0;34m\u001b[0m\u001b[0m\n\u001b[1;32m      3\u001b[0m    \u001b[0mprint\u001b[0m\u001b[0;34m(\u001b[0m\u001b[0;34m\"File content:\"\u001b[0m\u001b[0;34m)\u001b[0m\u001b[0;34m\u001b[0m\u001b[0;34m\u001b[0m\u001b[0m\n\u001b[1;32m      4\u001b[0m    \u001b[0mprint\u001b[0m\u001b[0;34m(\u001b[0m\u001b[0mcontent\u001b[0m\u001b[0;34m)\u001b[0m\u001b[0;34m\u001b[0m\u001b[0;34m\u001b[0m\u001b[0m\n",
            "\u001b[0;31mFileNotFoundError\u001b[0m: [Errno 2] No such file or directory: 'sample.txt'"
          ]
        }
      ]
    },
    {
      "cell_type": "markdown",
      "source": [
        "21.Write a Python program that  reads a fileand prints the numbers of occurence of a specific word."
      ],
      "metadata": {
        "id": "UeTTUhfTAr6X"
      }
    },
    {
      "cell_type": "code",
      "source": [
        "target_word = input(\"Enter the word to count: \").lower()\n",
        "with open(\"sample.txt\", \"r\") as file:\n",
        "  content = file.read().lower()\n",
        "word_count = content.split().count(target_word)\n",
        "print(f\"The word '(target_word)' appears {word_count} time(s) in the file.\")"
      ],
      "metadata": {
        "id": "WicIN5eKANGl"
      },
      "execution_count": null,
      "outputs": []
    },
    {
      "cell_type": "markdown",
      "source": [
        "22.How can you check if a file is empty before attempting to read its content?"
      ],
      "metadata": {
        "id": "QKTDceWbB48W"
      }
    },
    {
      "cell_type": "code",
      "source": [
        "import os\n",
        "file_path = \"example.txt\"\n",
        "if os.path.getsize(file_path) == 0:\n",
        "  print(\"The file is empty.\")\n",
        "else:\n",
        "  with open(file_path, \"r\") as file:\n",
        "    content = file.read()\n",
        "    print(\"File content:\")\n",
        "    print(content)"
      ],
      "metadata": {
        "id": "02wVXRgkBw6z"
      },
      "execution_count": null,
      "outputs": []
    },
    {
      "cell_type": "markdown",
      "source": [
        "23.Write a Python program that writes to a log file when an error occurs during file handling."
      ],
      "metadata": {
        "id": "yu42BxQbC9Tg"
      }
    },
    {
      "cell_type": "code",
      "source": [
        "import logging\n",
        "logging.basicConfig(\n",
        "    filename=\"file_errors.log\",\n",
        "    level=logging.ERROR,\n",
        "    format=\"%(asctime)s - %(levelname)s - %(message)s\"\n",
        ")\n",
        "try:\n",
        "  with open(\"nonexistent_file.txt\", \"r\") as file:\n",
        "    content = file.read()\n",
        "    print(content)\n",
        "except Exception as e:\n",
        "   logging.error(f\"An error occured while handling the file: {e}\")\n",
        "   print(\"An error occured. Check 'file_errors.log' for details.\")"
      ],
      "metadata": {
        "id": "pIr99VWdC5Bo"
      },
      "execution_count": null,
      "outputs": []
    },
    {
      "cell_type": "code",
      "source": [],
      "metadata": {
        "id": "vBdCJikYEvQB"
      },
      "execution_count": null,
      "outputs": []
    }
  ]
}